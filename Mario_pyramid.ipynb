{
  "nbformat": 4,
  "nbformat_minor": 0,
  "metadata": {
    "colab": {
      "provenance": []
    },
    "kernelspec": {
      "name": "python3",
      "display_name": "Python 3"
    },
    "language_info": {
      "name": "python"
    }
  },
  "cells": [
    {
      "cell_type": "markdown",
      "source": [
        "**Amira Muhammad**\n",
        "\n",
        "\n",
        "**module 1**\n",
        "\n",
        "**Mario pyramid**"
      ],
      "metadata": {
        "id": "HWWkY_xlf-zA"
      }
    },
    {
      "cell_type": "code",
      "source": [
        "def print_right_triangle():\n",
        "    Rows = int(input('Enter number of rows: '))\n",
        "    for i in range(1, Rows + 1):\n",
        "        space = Rows - i\n",
        "        stars = i\n",
        "        print(\" \" * space + \"*\" * stars)\n",
        "\n",
        "def print_pyramid():\n",
        "    height = int(input(\"Enter the desired pyramid height: \"))\n",
        "    pyramid_lines = []\n",
        "    for level in range(1, height + 1):\n",
        "        stars = \"*\" * level\n",
        "        spaces = \" \" * (height - level)\n",
        "        line = spaces + stars\n",
        "        pyramid_lines.append(line)\n",
        "        print(line)"
      ],
      "metadata": {
        "id": "CVRaY8NLgkZ_"
      },
      "execution_count": 5,
      "outputs": []
    },
    {
      "cell_type": "code",
      "source": [
        "#main\n",
        "print(\"Choose a pattern:\")\n",
        "print(\"1. Right Triangle\")\n",
        "print(\"2. Pyramid\")\n",
        "\n",
        "choice = input(\"Enter 1 or 2: \")\n",
        "\n",
        "if choice == \"1\":\n",
        "    print_right_triangle()\n",
        "elif choice == \"2\":\n",
        "    print_pyramid()\n",
        "else:\n",
        "    print(\"Invalid choice.\")"
      ],
      "metadata": {
        "colab": {
          "base_uri": "https://localhost:8080/"
        },
        "id": "qWIfy8hsg1Rt",
        "outputId": "c35b164d-b529-437b-e7dd-ac9eb0167144"
      },
      "execution_count": 4,
      "outputs": [
        {
          "output_type": "stream",
          "name": "stdout",
          "text": [
            "Choose a pattern:\n",
            "1. Right Triangle\n",
            "2. Pyramid\n",
            "Enter 1 or 2: 2\n",
            "Enter the desired pyramid height: 5\n",
            "    *\n",
            "   **\n",
            "  ***\n",
            " ****\n",
            "*****\n"
          ]
        }
      ]
    }
  ]
}